{
 "cells": [
  {
   "cell_type": "markdown",
   "metadata": {
    "collapsed": true
   },
   "source": [
    "# ニューラルネットワーク自作\n",
    "\n",
    "ニューラルネットワークをtensorFlowなどのライブラリを使わずに実装する。"
   ]
  },
  {
   "cell_type": "code",
   "execution_count": 39,
   "metadata": {},
   "outputs": [],
   "source": [
    "import numpy as np\n",
    "from scipy.special import expit\n",
    "from typing import List\n",
    "from tqdm import tqdm"
   ]
  },
  {
   "cell_type": "code",
   "execution_count": 9,
   "metadata": {},
   "outputs": [],
   "source": [
    "class NeuralNetwork:\n",
    "    \n",
    "    # ニューラルネットワークの初期化\n",
    "    def __init__(self,\n",
    "                 *,\n",
    "                 input_nodes: int,\n",
    "                 hidden_nodes: int,\n",
    "                 output_nodes: int,\n",
    "                 learning_rate: float):\n",
    "        \n",
    "        # 入力層・隠れ層・出力層のノード数を設定\n",
    "        self._input_nodes = input_nodes\n",
    "        self._hidden_nodes = hidden_nodes\n",
    "        self._output_nodes = output_nodes\n",
    "        \n",
    "        # 学習率を設定\n",
    "        self._learning_rate = learning_rate\n",
    "        \n",
    "        # 重み行列のランダム初期化\n",
    "        # 平均: 0\n",
    "        # 標準偏差: リンクの数の平方根の逆数\n",
    "        \n",
    "        ## 入力層 <-> 隠れ層\n",
    "        self.weight_input_hidden = np.random.normal(0.0,\n",
    "                                                    pow(self._hidden_nodes, -0.5),\n",
    "                                                    (self._hidden_nodes, self._input_nodes))\n",
    "        \n",
    "        ## 隠れ層 <-> 出力層\n",
    "        self.weight_hidden_output = np.random.normal(0.0,\n",
    "                                                     pow(self._output_nodes, -0.5),\n",
    "                                                     (self._output_nodes, self._hidden_nodes))\n",
    "        \n",
    "        pass\n",
    "    \n",
    "    # ニューラルネットワークの学習\n",
    "    def train(self,\n",
    "              *,\n",
    "              inputs_list: List,\n",
    "              target_list: List):\n",
    "        \n",
    "        # トレーニングデータの真の出力リストを行列に変換\n",
    "        targets = np.array(target_list, ndmin=2).T\n",
    "        \n",
    "        # トレーニングデータの出力リスト\n",
    "        inputs, hiddens, outputs = self.query(inputs_list=inputs_list)\n",
    "        \n",
    "        # 出力誤差(目標出力 - 最終出力)\n",
    "        output_errors = targets - outputs\n",
    "        \n",
    "        # 誤差逆伝搬行列\n",
    "        # E_hidden = W_hidden_output^T ・ E_output\n",
    "        hidden_errors = np.dot(self.weight_hidden_output.T, output_errors)\n",
    "        \n",
    "        # 隠れ層と出力層の間の重みを更新\n",
    "        self.weight_hidden_output += self._learning_rate * \\\n",
    "                                     np.dot(output_errors * outputs * (1 - outputs), np.transpose(hiddens))\n",
    "        \n",
    "        # 入力層と隠れ層の間の重みを更新\n",
    "        self.weight_input_hidden += self._learning_rate * \\\n",
    "                                    np.dot(hidden_errors * hiddens * (1 - hiddens), np.transpose(inputs))\n",
    "        \n",
    "        pass\n",
    "          \n",
    "    # ニューラルネットワークの紹介。隠れ層と出力層を返す\n",
    "    def query(self,\n",
    "              *,\n",
    "              inputs_list: List):\n",
    "        \n",
    "        # 入力リストを行列に変換。次元数は普通の行列なので2としている\n",
    "        inputs = np.array(inputs_list, ndmin=2).T\n",
    "        \n",
    "        # 隠れ層に入ってくる信号\n",
    "        # X_hidden = W_input_hidden ・ I\n",
    "        hiddens = np.dot(self.weight_input_hidden, inputs)\n",
    "        \n",
    "        # 活性化関数をかませる\n",
    "        hiddens = expit(hiddens)\n",
    "        \n",
    "        # 出力層に入ってくる信号\n",
    "        # O = W_hidden_output ・ X_hidden\n",
    "        outputs = np.dot(self.weight_hidden_output, hiddens)\n",
    "        \n",
    "        # 活性化関数をかませる\n",
    "        outputs = expit(outputs)\n",
    "        \n",
    "        return inputs, hiddens, outputs\n",
    "        \n",
    "    # ニューラルネットワークの予測    \n",
    "    def predict(self,\n",
    "                *,\n",
    "                inputs_list: List):\n",
    "        \n",
    "        return self.query(inputs_list=inputs_list)[2]"
   ]
  },
  {
   "cell_type": "markdown",
   "metadata": {},
   "source": [
    "MNISTデータセットの取得だけtflearnを用いる。"
   ]
  },
  {
   "cell_type": "code",
   "execution_count": 7,
   "metadata": {},
   "outputs": [
    {
     "name": "stdout",
     "output_type": "stream",
     "text": [
      "hdf5 is not supported on this machine (please install/reinstall h5py for optimal experience)\n"
     ]
    }
   ],
   "source": [
    "import tflearn.datasets.mnist as mnist"
   ]
  },
  {
   "cell_type": "code",
   "execution_count": 8,
   "metadata": {},
   "outputs": [
    {
     "name": "stdout",
     "output_type": "stream",
     "text": [
      "Extracting mnist/train-images-idx3-ubyte.gz\n"
     ]
    },
    {
     "name": "stdout",
     "output_type": "stream",
     "text": [
      "Extracting mnist/train-labels-idx1-ubyte.gz\nExtracting mnist/t10k-images-idx3-ubyte.gz\nExtracting mnist/t10k-labels-idx1-ubyte.gz\n"
     ]
    }
   ],
   "source": [
    "trainX, trainY, testX, testY = mnist.load_data(one_hot=True)"
   ]
  },
  {
   "cell_type": "markdown",
   "metadata": {},
   "source": [
    "ニューラルネットワークインスタンスを初期化する。"
   ]
  },
  {
   "cell_type": "code",
   "execution_count": 10,
   "metadata": {},
   "outputs": [],
   "source": [
    "neural_network = NeuralNetwork(input_nodes=784,\n",
    "                               hidden_nodes=28,\n",
    "                               output_nodes=10,\n",
    "                               learning_rate=0.1)"
   ]
  },
  {
   "cell_type": "markdown",
   "metadata": {},
   "source": [
    "学習モデルをトレーニングさせる"
   ]
  },
  {
   "cell_type": "code",
   "execution_count": 16,
   "metadata": {},
   "outputs": [],
   "source": [
    "for _ in tqdm(range(20)):\n",
    "    for x, y in zip(trainX, trainY):\n",
    "        neural_network.train(inputs_list=x,\n",
    "                             target_list=y)"
   ]
  },
  {
   "cell_type": "markdown",
   "metadata": {},
   "source": [
    "学習済みモデルに対して予測を行う"
   ]
  },
  {
   "cell_type": "code",
   "execution_count": 34,
   "metadata": {},
   "outputs": [
    {
     "name": "stdout",
     "output_type": "stream",
     "text": [
      "[  2.52832712e-08   9.93375848e-01   9.44112400e-05   3.95555632e-03\n   4.00831721e-07   1.49482523e-05   1.01549768e-03   4.63353562e-06\n   3.81215028e-03   2.43171791e-06]\n1\n<class 'numpy.ndarray'>\n"
     ]
    }
   ],
   "source": [
    "output = neural_network.predict(inputs_list=testX[39])\n",
    "print(output[0])\n",
    "print(output[0].argmax())\n",
    "print(type(output))"
   ]
  },
  {
   "cell_type": "code",
   "execution_count": 35,
   "metadata": {},
   "outputs": [
    {
     "name": "stdout",
     "output_type": "stream",
     "text": [
      "[ 0.  1.  0.  0.  0.  0.  0.  0.  0.  0.]\n1\n"
     ]
    }
   ],
   "source": [
    "print(testY[39])\n",
    "print(testY[39].argmax())"
   ]
  },
  {
   "cell_type": "markdown",
   "metadata": {},
   "source": []
  },
  {
   "cell_type": "code",
   "execution_count": 37,
   "metadata": {},
   "outputs": [
    {
     "data": {
      "text/plain": [
       "0.9428"
      ]
     },
     "execution_count": 37,
     "metadata": {},
     "output_type": "execute_result"
    }
   ],
   "source": [
    "right_count = 0\n",
    "for x, y in zip(testX, testY):\n",
    "    output = neural_network.predict(inputs_list=x)\n",
    "    if output[0].argmax() == y.argmax():\n",
    "        right_count += 1\n",
    "        \n",
    "accuracy = right_count / len(testY)\n",
    "accuracy"
   ]
  }
 ],
 "metadata": {
  "kernelspec": {
   "display_name": "Python 2",
   "language": "python",
   "name": "python2"
  },
  "language_info": {
   "codemirror_mode": {
    "name": "ipython",
    "version": 2
   },
   "file_extension": ".py",
   "mimetype": "text/x-python",
   "name": "python",
   "nbconvert_exporter": "python",
   "pygments_lexer": "ipython2",
   "version": "2.7.6"
  }
 },
 "nbformat": 4,
 "nbformat_minor": 0
}
